{
 "cells": [
  {
   "cell_type": "markdown",
   "id": "ee9bd92d-7a48-4ed2-828d-8f3e06750233",
   "metadata": {},
   "source": [
    "# Data Science Tools and Ecosystem"
   ]
  },
  {
   "cell_type": "markdown",
   "id": "c373feb9-fa4c-48fc-82c4-b0e2f433f457",
   "metadata": {},
   "source": [
    "In this notebook, Data Science Tools and Ecosystem are summarized."
   ]
  },
  {
   "cell_type": "markdown",
   "id": "ceb8780f-c285-41d6-bc03-6493df488c44",
   "metadata": {},
   "source": [
    "**Objectives:**\n",
    "\n",
    "- Popular Languages of data science\n",
    "- Commonly used libraries used by data scientists\n",
    "- Common Data Science tools\n",
    "- Few arithmetic expressions"
   ]
  },
  {
   "cell_type": "markdown",
   "id": "a742cf65-0342-4da8-aac4-648169ecbc79",
   "metadata": {},
   "source": [
    "Some of the popular languages that Data Scientists use are:\n",
    "\n",
    "1. Python\n",
    "2. SQL\n",
    "3. R\n",
    "4. Java"
   ]
  },
  {
   "cell_type": "markdown",
   "id": "bdd6d252-c77c-4369-9228-f2572abb0bca",
   "metadata": {
    "tags": []
   },
   "source": [
    "Some of the commonly used libraries used by Data Scientists include:\n",
    "\n",
    "1. Pandas\n",
    "2. Numpy\n",
    "3. Matplotlib\n",
    "4. Tensorflow\n",
    "5. Scikitlearn"
   ]
  },
  {
   "cell_type": "markdown",
   "id": "2743c33e-3377-4524-aeb8-94a4f7ef41e2",
   "metadata": {},
   "source": [
    "|Data Science Tools|\n",
    "|------------------|\n",
    "|RStudio|\n",
    "|JupyterNotebook|\n",
    "|Spyder|\n"
   ]
  },
  {
   "cell_type": "markdown",
   "id": "66346236-4a63-43a2-8625-e0fd7d3ff053",
   "metadata": {},
   "source": [
    "### Below are a few examples of evaluating arithmetic expressions in Python"
   ]
  },
  {
   "cell_type": "code",
   "execution_count": 2,
   "id": "63374777-0329-465e-8327-b2a7e8c75f1e",
   "metadata": {
    "tags": []
   },
   "outputs": [
    {
     "data": {
      "text/plain": [
       "17"
      ]
     },
     "execution_count": 2,
     "metadata": {},
     "output_type": "execute_result"
    }
   ],
   "source": [
    "#This a simple arithmetic expression to mutiply then add integers\n",
    "\n",
    "(3*4)+5"
   ]
  },
  {
   "cell_type": "code",
   "execution_count": 3,
   "id": "33999928-a809-44fd-80fa-64a83967ee4d",
   "metadata": {
    "tags": []
   },
   "outputs": [
    {
     "data": {
      "text/plain": [
       "3.3333333333333335"
      ]
     },
     "execution_count": 3,
     "metadata": {},
     "output_type": "execute_result"
    }
   ],
   "source": [
    "#This will convert 200 minutes to hours by diving by 60\n",
    "\n",
    "(200/60)"
   ]
  },
  {
   "cell_type": "markdown",
   "id": "3487f9e7-42ca-4288-accd-2a7d1ce9566e",
   "metadata": {},
   "source": [
    "## Author\n",
    "\n",
    "Mainak Dasgupta"
   ]
  },
  {
   "cell_type": "code",
   "execution_count": null,
   "id": "22ed560d-8eb4-4e4f-8f8f-8d0fe4e9d69c",
   "metadata": {},
   "outputs": [],
   "source": []
  }
 ],
 "metadata": {
  "kernelspec": {
   "display_name": "Python 3 (ipykernel)",
   "language": "python",
   "name": "python3"
  },
  "language_info": {
   "codemirror_mode": {
    "name": "ipython",
    "version": 3
   },
   "file_extension": ".py",
   "mimetype": "text/x-python",
   "name": "python",
   "nbconvert_exporter": "python",
   "pygments_lexer": "ipython3",
   "version": "3.11.3"
  }
 },
 "nbformat": 4,
 "nbformat_minor": 5
}
